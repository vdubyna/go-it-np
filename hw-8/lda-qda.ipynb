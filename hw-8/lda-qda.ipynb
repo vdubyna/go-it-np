{
 "cells": [
  {
   "cell_type": "code",
   "id": "initial_id",
   "metadata": {
    "collapsed": true,
    "ExecuteTime": {
     "end_time": "2025-02-01T11:31:13.165909Z",
     "start_time": "2025-02-01T11:31:12.761550Z"
    }
   },
   "source": [
    "from sklearn.datasets import load_iris\n",
    "\n",
    "# Завантаження даних Iris\n",
    "iris = load_iris()\n",
    "\n",
    "# Для ознайомлення можна подивитись, які ключі містяться у завантаженому словнику:\n",
    "print(\"Ключі у завантаженому наборі даних:\", iris.keys())"
   ],
   "outputs": [
    {
     "name": "stdout",
     "output_type": "stream",
     "text": [
      "Ключі у завантаженому наборі даних: dict_keys(['data', 'target', 'frame', 'target_names', 'DESCR', 'feature_names', 'filename', 'data_module'])\n"
     ]
    }
   ],
   "execution_count": 1
  },
  {
   "metadata": {
    "ExecuteTime": {
     "end_time": "2025-02-01T11:32:44.110910Z",
     "start_time": "2025-02-01T11:32:43.735321Z"
    }
   },
   "cell_type": "code",
   "source": [
    "from sklearn.model_selection import train_test_split\n",
    "\n",
    "# Розподіл даних на навчальну та тестову вибірки\n",
    "X_train, X_test, y_train, y_test = train_test_split(\n",
    "    iris.data,       # ознаки\n",
    "    iris.target,     # мітки класів\n",
    "    test_size=0.3,   # 30% даних для тестування\n",
    "    random_state=42, # для відтворюваності результатів\n",
    "    stratify=iris.target  # зберігаємо пропорції класів\n",
    ")\n",
    "\n",
    "# Виведемо розміри отриманих вибірок\n",
    "print(\"Розмір навчальної вибірки:\", X_train.shape)\n",
    "print(\"Розмір тестової вибірки:\", X_test.shape)"
   ],
   "id": "abc0d6b0ac9419ca",
   "outputs": [
    {
     "name": "stdout",
     "output_type": "stream",
     "text": [
      "Розмір навчальної вибірки: (105, 4)\n",
      "Розмір тестової вибірки: (45, 4)\n"
     ]
    }
   ],
   "execution_count": 7
  },
  {
   "metadata": {
    "ExecuteTime": {
     "end_time": "2025-02-01T11:33:36.326790Z",
     "start_time": "2025-02-01T11:33:36.322843Z"
    }
   },
   "cell_type": "code",
   "source": [
    "import numpy as np\n",
    "\n",
    "# Отримуємо унікальні класи з міток навчальної вибірки\n",
    "unique_classes = np.unique(y_train)\n",
    "\n",
    "# Створюємо словник, де ключами будуть класи, а значенням — відповідні зразки ознак\n",
    "X_train_by_class = {}\n",
    "for c in unique_classes:\n",
    "    X_train_by_class[c] = X_train[y_train == c]\n",
    "    print(f\"Клас {c}: {X_train_by_class[c].shape[0]} зразків\")\n",
    "\n",
    "# Приклад: виведемо перші 5 зразків для класу 0\n",
    "print(\"Перші 5 зразків для класу 0:\\n\", X_train_by_class[0][:5])"
   ],
   "id": "a250da2acd582d96",
   "outputs": [
    {
     "name": "stdout",
     "output_type": "stream",
     "text": [
      "Клас 0: 35 зразків\n",
      "Клас 1: 35 зразків\n",
      "Клас 2: 35 зразків\n",
      "Перші 5 зразків для класу 0:\n",
      " [[5.1 3.8 1.5 0.3]\n",
      " [4.9 3.1 1.5 0.1]\n",
      " [5.1 3.8 1.6 0.2]\n",
      " [4.4 2.9 1.4 0.2]\n",
      " [4.9 3.  1.4 0.2]]\n"
     ]
    }
   ],
   "execution_count": 8
  },
  {
   "metadata": {
    "ExecuteTime": {
     "end_time": "2025-02-01T11:34:29.342851Z",
     "start_time": "2025-02-01T11:34:29.337890Z"
    }
   },
   "cell_type": "code",
   "source": [
    "# Створюємо словник для збереження коваріаційних матриць кожного класу\n",
    "cov_matrices = {}\n",
    "\n",
    "for c in unique_classes:\n",
    "    # Отримуємо дані для поточного класу\n",
    "    X_c = X_train_by_class[c]\n",
    "\n",
    "    # Обчислюємо коваріаційну матрицю\n",
    "    cov_matrix = np.cov(X_c, rowvar=False)\n",
    "\n",
    "    # Зберігаємо матрицю у словнику\n",
    "    cov_matrices[c] = cov_matrix\n",
    "\n",
    "    # Виводимо отриману коваріаційну матрицю для поточного класу\n",
    "    print(f\"Коваріаційна матриця для класу {c}:\\n{cov_matrix}\\n\")"
   ],
   "id": "c75cb92c2be748a1",
   "outputs": [
    {
     "name": "stdout",
     "output_type": "stream",
     "text": [
      "Коваріаційна матриця для класу 0:\n",
      "[[0.10633613 0.10794958 0.00894958 0.01282353]\n",
      " [0.10794958 0.17902521 0.01567227 0.01247059]\n",
      " [0.00894958 0.01567227 0.02361345 0.00382353]\n",
      " [0.01282353 0.01247059 0.00382353 0.00952941]]\n",
      "\n",
      "Коваріаційна матриця для класу 1:\n",
      "[[0.24786555 0.06989916 0.1722605  0.04810084]\n",
      " [0.06989916 0.08810084 0.06115126 0.03148739]\n",
      " [0.1722605  0.06115126 0.21769748 0.06584874]\n",
      " [0.04810084 0.03148739 0.06584874 0.03668908]]\n",
      "\n",
      "Коваріаційна матриця для класу 2:\n",
      "[[0.43734454 0.10632773 0.33584874 0.0347395 ]\n",
      " [0.10632773 0.12080672 0.09148739 0.04380672]\n",
      " [0.33584874 0.09148739 0.33221849 0.0492521 ]\n",
      " [0.0347395  0.04380672 0.0492521  0.0657479 ]]\n",
      "\n"
     ]
    }
   ],
   "execution_count": 9
  },
  {
   "metadata": {
    "ExecuteTime": {
     "end_time": "2025-02-01T11:35:26.733349Z",
     "start_time": "2025-02-01T11:35:26.728561Z"
    }
   },
   "cell_type": "code",
   "source": [
    "# Створюємо словник для збереження обернених коваріаційних матриць для кожного класу\n",
    "inv_cov_matrices = {}\n",
    "\n",
    "for c in unique_classes:\n",
    "    try:\n",
    "        # Спробуємо обчислити обернену матрицю\n",
    "        inv_cov_matrix = np.linalg.inv(cov_matrices[c])\n",
    "    except np.linalg.LinAlgError:\n",
    "        # Якщо коваріаційна матриця вироджена, використовуємо псевдообернену матрицю\n",
    "        inv_cov_matrix = np.linalg.pinv(cov_matrices[c])\n",
    "    inv_cov_matrices[c] = inv_cov_matrix\n",
    "\n",
    "    print(f\"Обернена коваріаційна матриця для класу {c}:\\n{inv_cov_matrix}\\n\")"
   ],
   "id": "f8268f12fa73898c",
   "outputs": [
    {
     "name": "stdout",
     "output_type": "stream",
     "text": [
      "Обернена коваріаційна матриця для класу 0:\n",
      "[[ 26.4725808  -15.00973871   2.6913364  -17.06107947]\n",
      " [-15.00973871  14.85756612  -4.5928917    2.5978826 ]\n",
      " [  2.6913364   -4.5928917   47.04680526 -16.48802863]\n",
      " [-17.06107947   2.5978826  -16.48802863 131.11287701]]\n",
      "\n",
      "Обернена коваріаційна матриця для класу 1:\n",
      "[[  9.93551105  -4.01797119  -8.39205106   5.48433003]\n",
      " [ -4.01797119  18.05565052   2.62794165 -14.94461892]\n",
      " [ -8.39205106   2.62794165  17.17293632 -22.07465095]\n",
      " [  5.48433003 -14.94461892 -22.07465095  72.51079863]]\n",
      "\n",
      "Обернена коваріаційна матриця для класу 2:\n",
      "[[ 11.35076597  -3.07021976 -11.29818332   4.51171287]\n",
      " [ -3.07021976  13.3362602    0.57148332  -7.69160272]\n",
      " [-11.29818332   0.57148332  15.125557    -5.74173597]\n",
      " [  4.51171287  -7.69160272  -5.74173597  22.25168948]]\n",
      "\n"
     ]
    }
   ],
   "execution_count": 10
  },
  {
   "metadata": {
    "ExecuteTime": {
     "end_time": "2025-02-01T11:37:57.436667Z",
     "start_time": "2025-02-01T11:37:57.433945Z"
    }
   },
   "cell_type": "code",
   "source": [
    "# Обчислення апріорних ймовірностей для кожного класу\n",
    "priors = {}\n",
    "total_samples = len(y_train)\n",
    "\n",
    "for c in unique_classes:\n",
    "    count_c = np.sum(y_train == c)\n",
    "    priors[c] = count_c / total_samples\n",
    "    print(f\"Апріорна ймовірність для класу {c}: {priors[c]:.4f}\")"
   ],
   "id": "b4c7a57dae80a6d3",
   "outputs": [
    {
     "name": "stdout",
     "output_type": "stream",
     "text": [
      "Апріорна ймовірність для класу 0: 0.3333\n",
      "Апріорна ймовірність для класу 1: 0.3333\n",
      "Апріорна ймовірність для класу 2: 0.3333\n"
     ]
    }
   ],
   "execution_count": 11
  },
  {
   "metadata": {
    "ExecuteTime": {
     "end_time": "2025-02-01T11:38:45.587944Z",
     "start_time": "2025-02-01T11:38:45.585337Z"
    }
   },
   "cell_type": "code",
   "source": [
    "# Обчислення середніх векторів для кожного класу\n",
    "means = {}\n",
    "for c in unique_classes:\n",
    "    means[c] = np.mean(X_train_by_class[c], axis=0)\n",
    "    print(f\"Середній вектор для класу {c}:\\n{means[c]}\\n\")"
   ],
   "id": "2e3bad774940835f",
   "outputs": [
    {
     "name": "stdout",
     "output_type": "stream",
     "text": [
      "Середній вектор для класу 0:\n",
      "[4.98857143 3.42571429 1.48571429 0.24      ]\n",
      "\n",
      "Середній вектор для класу 1:\n",
      "[5.94857143 2.73142857 4.23714286 1.30857143]\n",
      "\n",
      "Середній вектор для класу 2:\n",
      "[6.68285714 3.00857143 5.63142857 2.06857143]\n",
      "\n"
     ]
    }
   ],
   "execution_count": 12
  },
  {
   "metadata": {
    "ExecuteTime": {
     "end_time": "2025-02-01T11:39:22.994457Z",
     "start_time": "2025-02-01T11:39:22.991426Z"
    }
   },
   "cell_type": "code",
   "source": [
    "def compute_discriminant(x, means, inv_cov_matrices, cov_matrices, priors):\n",
    "    \"\"\"\n",
    "    Обчислює значення дискримінантної функції для вектора ознак x для кожного класу.\n",
    "\n",
    "    Параметри:\n",
    "    - x: вектор ознак (1D numpy масив)\n",
    "    - means: словник середніх векторів для кожного класу\n",
    "    - inv_cov_matrices: словник обернених коваріаційних матриць для кожного класу\n",
    "    - cov_matrices: словник коваріаційних матриць для кожного класу\n",
    "    - priors: словник апріорних ймовірностей для кожного класу\n",
    "\n",
    "    Повертає:\n",
    "    - discriminants: словник, де ключ — клас, а значення — значення дискримінантної функції для x\n",
    "    \"\"\"\n",
    "    discriminants = {}\n",
    "    for c in unique_classes:\n",
    "        # Обчислюємо різницю між вектором ознак і середнім вектором класу c\n",
    "        diff = x - means[c]\n",
    "\n",
    "        # Обчислюємо квадратичну форму: (x - μ)ᵀ * Σ⁻¹ * (x - μ)\n",
    "        quadratic_term = -0.5 * diff.T @ inv_cov_matrices[c] @ diff\n",
    "\n",
    "        # Обчислюємо логарифм визначника коваріаційної матриці\n",
    "        # Використовуємо np.linalg.slogdet для більшої числової стабільності\n",
    "        sign, logdet = np.linalg.slogdet(cov_matrices[c])\n",
    "        determinant_term = -0.5 * logdet\n",
    "\n",
    "        # Обчислюємо логарифм апріорної ймовірності\n",
    "        log_prior = np.log(priors[c])\n",
    "\n",
    "        # Підсумовуємо всі частини\n",
    "        discriminants[c] = quadratic_term + determinant_term + log_prior\n",
    "    return discriminants"
   ],
   "id": "491e7904795a9319",
   "outputs": [],
   "execution_count": 13
  },
  {
   "metadata": {
    "ExecuteTime": {
     "end_time": "2025-02-01T11:45:31.966687Z",
     "start_time": "2025-02-01T11:45:31.961860Z"
    }
   },
   "cell_type": "code",
   "source": [
    "def predict_qda(X, means, cov_matrices, inv_cov_matrices, priors):\n",
    "    \"\"\"\n",
    "    Обчислює значення дискримінантних функцій та імовірності приналежності кожному класу для всіх зразків тестових даних.\n",
    "\n",
    "    Параметри:\n",
    "    - X: матриця ознак тестових зразків (numpy array розміру [n_samples, n_features])\n",
    "    - means: словник середніх векторів для кожного класу\n",
    "    - cov_matrices: словник коваріаційних матриць для кожного класу\n",
    "    - inv_cov_matrices: словник обернених коваріаційних матриць для кожного класу\n",
    "    - priors: словник апріорних ймовірностей для кожного класу\n",
    "\n",
    "    Повертає:\n",
    "    - discriminant_values: numpy масив розміру (n_samples, n_classes) зі значеннями дискримінантних функцій\n",
    "    - probabilities: numpy масив розміру (n_samples, n_classes) з імовірностями приналежності до кожного класу\n",
    "    - predictions: numpy масив з прогнозованими класами (для кожного зразка вибирається клас з максимальним значенням дискримінантної функції)\n",
    "    \"\"\"\n",
    "    n_samples = X.shape[0]\n",
    "    n_classes = len(means)  # або len(unique_classes), якщо він уже визначений глобально\n",
    "\n",
    "    # Ініціалізуємо масиви для результатів\n",
    "    discriminant_values = np.zeros((n_samples, n_classes))\n",
    "    probabilities = np.zeros((n_samples, n_classes))\n",
    "    predictions = np.zeros(n_samples, dtype=int)\n",
    "\n",
    "    # Проходимо по кожному зразку тестових даних\n",
    "    for i, x in enumerate(X):\n",
    "        # Обчислюємо дискримінантні функції для поточного зразка\n",
    "        disc = compute_discriminant(x, means, inv_cov_matrices, cov_matrices, priors)\n",
    "        # Отримуємо значення в тому ж порядку, що й класи (наприклад, 0, 1, 2)\n",
    "        disc_values = np.array([disc[c] for c in sorted(disc.keys())])\n",
    "        discriminant_values[i] = disc_values\n",
    "\n",
    "        # Перетворюємо логарифмічні значення у ймовірності через softmax\n",
    "        exp_values = np.exp(disc_values)\n",
    "        sum_exp = np.sum(exp_values)\n",
    "        probabilities[i] = exp_values / sum_exp\n",
    "\n",
    "        # Прогнозуємо клас за максимальним значенням дискримінантної функції\n",
    "        predictions[i] = np.argmax(disc_values)\n",
    "\n",
    "    return discriminant_values, probabilities, predictions\n"
   ],
   "id": "cc22852b4956613c",
   "outputs": [],
   "execution_count": 17
  },
  {
   "metadata": {
    "ExecuteTime": {
     "end_time": "2025-02-01T11:45:51.813261Z",
     "start_time": "2025-02-01T11:45:51.801095Z"
    }
   },
   "cell_type": "code",
   "source": [
    "# Після отримання прогнозів за допомогою нашої функції predict_qda:\n",
    "disc_vals, probs, preds = predict_qda(X_test, means, cov_matrices, inv_cov_matrices, priors)\n",
    "\n",
    "# Виведемо для прикладу перші 10 прогнозів та відповідні реальні значення\n",
    "print(\"Прогнозовані значення (custom QDA):\", preds[:10])\n",
    "print(\"Реальні значення:\", y_test[:10])\n",
    "\n",
    "# Для оцінки продуктивності можна обчислити точність та інші метрики.\n",
    "from sklearn.metrics import accuracy_score, confusion_matrix, classification_report\n",
    "\n",
    "# Обчислюємо точність (accuracy)\n",
    "accuracy = accuracy_score(y_test, preds)\n",
    "print(\"Точність моделі (custom QDA): {:.2f}%\".format(accuracy * 100))\n",
    "\n",
    "# Обчислюємо матрицю помилок (confusion matrix)\n",
    "conf_matrix = confusion_matrix(y_test, preds)\n",
    "print(\"Матриця коваріації:\")\n",
    "print(conf_matrix)\n",
    "\n",
    "# Обчислюємо звіт класифікації (classification report) для більш детальної оцінки\n",
    "report = classification_report(y_test, preds)\n",
    "print(\"Звіт класифікації:\")\n",
    "print(report)"
   ],
   "id": "a26d44a1156b25fa",
   "outputs": [
    {
     "name": "stdout",
     "output_type": "stream",
     "text": [
      "Прогнозовані значення (custom QDA): [2 1 1 1 2 2 1 1 0 2]\n",
      "Реальні значення: [2 1 2 1 2 2 1 1 0 2]\n",
      "Точність моделі (custom QDA): 97.78%\n",
      "Матриця плутанини:\n",
      "[[15  0  0]\n",
      " [ 0 15  0]\n",
      " [ 0  1 14]]\n",
      "Звіт класифікації:\n",
      "              precision    recall  f1-score   support\n",
      "\n",
      "           0       1.00      1.00      1.00        15\n",
      "           1       0.94      1.00      0.97        15\n",
      "           2       1.00      0.93      0.97        15\n",
      "\n",
      "    accuracy                           0.98        45\n",
      "   macro avg       0.98      0.98      0.98        45\n",
      "weighted avg       0.98      0.98      0.98        45\n",
      "\n"
     ]
    }
   ],
   "execution_count": 18
  },
  {
   "metadata": {
    "ExecuteTime": {
     "end_time": "2025-02-01T11:46:06.976072Z",
     "start_time": "2025-02-01T11:46:06.965873Z"
    }
   },
   "cell_type": "code",
   "source": [
    "from sklearn.discriminant_analysis import QuadraticDiscriminantAnalysis\n",
    "from sklearn.metrics import accuracy_score, confusion_matrix, classification_report\n",
    "\n",
    "# Створюємо об'єкт моделі QDA\n",
    "qda_model = QuadraticDiscriminantAnalysis()\n",
    "\n",
    "# Навчаємо модель на тренувальних даних\n",
    "qda_model.fit(X_train, y_train)\n",
    "\n",
    "# Виконуємо прогнозування для тестових даних\n",
    "sklearn_preds = qda_model.predict(X_test)\n",
    "sklearn_probs = qda_model.predict_proba(X_test)\n",
    "\n",
    "# Для прикладу виведемо прогнозовані значення та відповідні ймовірності для перших 10 зразків\n",
    "print(\"Sklearn QDA - Прогнозовані значення для перших 10 зразків:\", sklearn_preds[:10])\n",
    "print(\"\\nSklearn QDA - Ймовірності для перших 10 зразків:\\n\", sklearn_probs[:10])\n",
    "\n",
    "# Оцінка точності моделі\n",
    "accuracy_sklearn = accuracy_score(y_test, sklearn_preds)\n",
    "print(\"\\nТочність моделі (sklearn QDA): {:.2f}%\".format(accuracy_sklearn * 100))\n",
    "\n",
    "# Додатково можна вивести матрицю помилок та звіт класифікації\n",
    "print(\"\\nМатриця помилок (sklearn QDA):\")\n",
    "print(confusion_matrix(y_test, sklearn_preds))\n",
    "\n",
    "print(\"\\nЗвіт помилок (sklearn QDA):\")\n",
    "print(classification_report(y_test, sklearn_preds))"
   ],
   "id": "ad6b92bae3b9065c",
   "outputs": [
    {
     "name": "stdout",
     "output_type": "stream",
     "text": [
      "Sklearn QDA - Прогнозовані значення для перших 10 зразків: [2 1 1 1 2 2 1 1 0 2]\n",
      "\n",
      "Sklearn QDA - Ймовірності для перших 10 зразків:\n",
      " [[4.50882393e-281 2.33265931e-004 9.99766734e-001]\n",
      " [5.80070002e-126 9.92322373e-001 7.67762740e-003]\n",
      " [1.26093381e-158 7.67923611e-001 2.32076389e-001]\n",
      " [1.92007252e-129 9.91317389e-001 8.68261120e-003]\n",
      " [7.01546976e-154 1.69976180e-001 8.30023820e-001]\n",
      " [7.13283390e-245 1.03400009e-008 9.99999990e-001]\n",
      " [5.47612577e-088 9.97991033e-001 2.00896736e-003]\n",
      " [1.52596086e-075 9.99976960e-001 2.30402717e-005]\n",
      " [1.00000000e+000 3.54030833e-018 2.18568869e-036]\n",
      " [2.27377265e-204 2.57429718e-007 9.99999743e-001]]\n",
      "\n",
      "Точність моделі (sklearn QDA): 97.78%\n",
      "\n",
      "Матриця плутанини (sklearn QDA):\n",
      "[[15  0  0]\n",
      " [ 0 15  0]\n",
      " [ 0  1 14]]\n",
      "\n",
      "Звіт класифікації (sklearn QDA):\n",
      "              precision    recall  f1-score   support\n",
      "\n",
      "           0       1.00      1.00      1.00        15\n",
      "           1       0.94      1.00      0.97        15\n",
      "           2       1.00      0.93      0.97        15\n",
      "\n",
      "    accuracy                           0.98        45\n",
      "   macro avg       0.98      0.98      0.98        45\n",
      "weighted avg       0.98      0.98      0.98        45\n",
      "\n"
     ]
    }
   ],
   "execution_count": 19
  },
  {
   "metadata": {},
   "cell_type": "markdown",
   "source": [
    "### Висновок\n",
    "\n",
    "1.\tВисока точність:\n",
    "Точність 97.78% свідчить про те, що реалізація правильно класифікує майже всі зразки тестових даних.\n",
    "2.\tМатриця помилок:\n",
    "Матриця показує, що для класів 0 та 1 всі зразки класифікуються правильно, а для класу 2 лише один зразок класифіковано невірно. Це відповідає очікуваній поведінці моделі.\n",
    "3.\tЗвіт класифікації:\n",
    "Всі метрики (precision, recall, f1-score) знаходяться на дуже високому рівні для кожного класу. Це підтверджує, що модель працює коректно.\n",
    "4.\tПорівняння зі sklearn:\n",
    "Оскільки результати custom QDA реалізації і моделі QuadraticDiscriminantAnalysis() зі sklearn ідентичні, можна зробити висновок, що алгоритм реалізовано правильно."
   ],
   "id": "468a682de8fbaa51"
  },
  {
   "metadata": {},
   "cell_type": "code",
   "outputs": [],
   "execution_count": null,
   "source": "",
   "id": "e7781f8af26b041f"
  }
 ],
 "metadata": {
  "kernelspec": {
   "display_name": "Python 3",
   "language": "python",
   "name": "python3"
  },
  "language_info": {
   "codemirror_mode": {
    "name": "ipython",
    "version": 2
   },
   "file_extension": ".py",
   "mimetype": "text/x-python",
   "name": "python",
   "nbconvert_exporter": "python",
   "pygments_lexer": "ipython2",
   "version": "2.7.6"
  }
 },
 "nbformat": 4,
 "nbformat_minor": 5
}
